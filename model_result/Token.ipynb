{
 "cells": [
  {
   "cell_type": "code",
   "execution_count": null,
   "id": "7011db26",
   "metadata": {},
   "outputs": [],
   "source": [
    "from utils import(\n",
    "    prepare_tokenizer_data,\n",
    "    tokenize_data\n",
    ")"
   ]
  },
  {
   "cell_type": "code",
   "execution_count": 2,
   "id": "f0b4ff80",
   "metadata": {},
   "outputs": [
    {
     "name": "stdout",
     "output_type": "stream",
     "text": [
      "토크나이저 학습 완료!\n",
      "생성된 파일: sentencepiece.model, sentencepiece.vocab\n"
     ]
    }
   ],
   "source": [
    "import sentencepiece as spm\n",
    "\n",
    "prepare_tokenizer_data()  # 모델 학습용 SentencePiece 설정\n",
    "\n",
    "spm.SentencePieceTrainer.train(\n",
    "    input='tokenizer_corpus.txt',\n",
    "    model_prefix='sentencepiece',\n",
    "    vocab_size=30000,\n",
    "    model_type='bpe',\n",
    "    character_coverage=0.9995,\n",
    "    \n",
    "    # 특수 토큰 ID 설정\n",
    "    pad_id=0,   # <pad> 패딩\n",
    "    unk_id=1,   # <unk> 미지어\n",
    "    bos_id=2,   # <s> 문장 시작\n",
    "    eos_id=3,   # </s> 문장 끝\n",
    "    \n",
    "    # 학습 품질 향상 옵션\n",
    "    shuffle_input_sentence=True,    # 입력 데이터 셔플\n",
    "    split_digits=True,              # 숫자 분리 (12345 → 1 2 3 4 5)\n",
    "    byte_fallback=False,             # OOV 처리 강화\n",
    "    \n",
    "    # 성능 옵션\n",
    "    num_threads=4,                  # 멀티스레딩\n",
    "    train_extremely_large_corpus=False,  # 대용량 코퍼스면 True\n",
    ")\n",
    "\n",
    "print(\"토크나이저 학습 완료!\")\n",
    "print(\"생성된 파일: sentencepiece.model, sentencepiece.vocab\")"
   ]
  },
  {
   "cell_type": "code",
   "execution_count": 3,
   "id": "0cb1e95f",
   "metadata": {},
   "outputs": [
    {
     "name": "stdout",
     "output_type": "stream",
     "text": [
      "OpenNMT용 토크나이징 완료!\n",
      "생성된 파일: train.tok.ko, train.tok.en, valid.tok.ko, valid.tok.en\n"
     ]
    }
   ],
   "source": [
    "tokenize_data()\n",
    "print(\"OpenNMT용 토크나이징 완료!\")\n",
    "print(\"생성된 파일: train.tok.ko, train.tok.en, valid.tok.ko, valid.tok.en\")"
   ]
  },
  {
   "cell_type": "code",
   "execution_count": null,
   "id": "1e8630e6",
   "metadata": {},
   "outputs": [],
   "source": []
  }
 ],
 "metadata": {
  "kernelspec": {
   "display_name": "daycon",
   "language": "python",
   "name": "python3"
  },
  "language_info": {
   "codemirror_mode": {
    "name": "ipython",
    "version": 3
   },
   "file_extension": ".py",
   "mimetype": "text/x-python",
   "name": "python",
   "nbconvert_exporter": "python",
   "pygments_lexer": "ipython3",
   "version": "3.11.13"
  }
 },
 "nbformat": 4,
 "nbformat_minor": 5
}
