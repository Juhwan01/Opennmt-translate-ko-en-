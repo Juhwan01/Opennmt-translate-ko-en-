{
 "cells": [
  {
   "cell_type": "code",
   "execution_count": 1,
   "id": "f8bd1567",
   "metadata": {},
   "outputs": [
    {
     "name": "stderr",
     "output_type": "stream",
     "text": [
      "C:\\Anaconda3\\envs\\daycon\\Lib\\site-packages\\onmt\\modules\\sparse_activations.py:46: FutureWarning: `torch.cuda.amp.custom_fwd(args...)` is deprecated. Please use `torch.amp.custom_fwd(args..., device_type='cuda')` instead.\n",
      "  @custom_fwd\n",
      "C:\\Anaconda3\\envs\\daycon\\Lib\\site-packages\\onmt\\modules\\sparse_activations.py:66: FutureWarning: `torch.cuda.amp.custom_bwd(args...)` is deprecated. Please use `torch.amp.custom_bwd(args..., device_type='cuda')` instead.\n",
      "  @custom_bwd\n",
      "C:\\Anaconda3\\envs\\daycon\\Lib\\site-packages\\onmt\\modules\\sru.py:395: FutureWarning: `torch.cuda.amp.custom_fwd(args...)` is deprecated. Please use `torch.amp.custom_fwd(args..., device_type='cuda')` instead.\n",
      "  @custom_fwd\n",
      "C:\\Anaconda3\\envs\\daycon\\Lib\\site-packages\\onmt\\modules\\sru.py:444: FutureWarning: `torch.cuda.amp.custom_bwd(args...)` is deprecated. Please use `torch.amp.custom_bwd(args..., device_type='cuda')` instead.\n",
      "  @custom_bwd\n",
      "C:\\Anaconda3\\envs\\daycon\\Lib\\site-packages\\onmt\\modules\\sparse_losses.py:10: FutureWarning: `torch.cuda.amp.custom_fwd(args...)` is deprecated. Please use `torch.amp.custom_fwd(args..., device_type='cuda')` instead.\n",
      "  @custom_fwd\n",
      "C:\\Anaconda3\\envs\\daycon\\Lib\\site-packages\\onmt\\modules\\sparse_losses.py:31: FutureWarning: `torch.cuda.amp.custom_bwd(args...)` is deprecated. Please use `torch.amp.custom_bwd(args..., device_type='cuda')` instead.\n",
      "  @custom_bwd\n",
      "[2025-07-16 06:33:28,501 INFO] Default transforms: ['sentencepiece'].\n",
      "[2025-07-16 06:33:28,502 WARNING] Corpus corpus_1's weight should be given. We default it to 1 for you.\n",
      "[2025-07-16 06:33:28,502 INFO] Parsed 2 corpora from -data.\n",
      "Traceback (most recent call last):\n",
      "  File \"<frozen runpy>\", line 198, in _run_module_as_main\n",
      "  File \"<frozen runpy>\", line 88, in _run_code\n",
      "  File \"C:\\Anaconda3\\envs\\daycon\\Scripts\\onmt_train.exe\\__main__.py\", line 7, in <module>\n",
      "  File \"C:\\Anaconda3\\envs\\daycon\\Lib\\site-packages\\onmt\\bin\\train.py\", line 67, in main\n",
      "    train(opt)\n",
      "  File \"C:\\Anaconda3\\envs\\daycon\\Lib\\site-packages\\onmt\\bin\\train.py\", line 52, in train\n",
      "    train_process(opt, device_id=0)\n",
      "  File \"C:\\Anaconda3\\envs\\daycon\\Lib\\site-packages\\onmt\\train_single.py\", line 162, in main\n",
      "    checkpoint, vocabs, transforms_cls = _init_train(opt)\n",
      "                                         ^^^^^^^^^^^^^^^^\n",
      "  File \"C:\\Anaconda3\\envs\\daycon\\Lib\\site-packages\\onmt\\train_single.py\", line 64, in _init_train\n",
      "    ArgumentParser.validate_prepare_opts(opt)\n",
      "  File \"C:\\Anaconda3\\envs\\daycon\\Lib\\site-packages\\onmt\\utils\\parse.py\", line 203, in validate_prepare_opts\n",
      "    cls._validate_vocab_opts(opt, build_vocab_only=build_vocab_only)\n",
      "  File \"C:\\Anaconda3\\envs\\daycon\\Lib\\site-packages\\onmt\\utils\\parse.py\", line 138, in _validate_vocab_opts\n",
      "    cls._validate_file(opt.src_vocab, info=\"src vocab\")\n",
      "  File \"C:\\Anaconda3\\envs\\daycon\\Lib\\site-packages\\onmt\\utils\\parse.py\", line 18, in _validate_file\n",
      "    raise IOError(f\"Please check path of your {info} file!\")\n",
      "OSError: Please check path of your src vocab file!\n"
     ]
    }
   ],
   "source": [
    "!onmt_train -config config.yaml"
   ]
  },
  {
   "cell_type": "code",
   "execution_count": 3,
   "id": "77daa579",
   "metadata": {},
   "outputs": [],
   "source": [
    "# 더미 vocab 파일 생성\n",
    "!echo \"<unk> 0\" > data/demo.vocab.src\n",
    "!echo \"<s> 1\" >> data/demo.vocab.src  \n",
    "!echo \"</s> 2\" >> data/demo.vocab.src\n",
    "!echo \"<blank> 3\" >> data/demo.vocab.src\n",
    "\n",
    "# 타겟도 동일하게\n",
    "!echo \"<unk> 0\" > data/demo.vocab.tgt\n",
    "!echo \"<s> 1\" >> data/demo.vocab.tgt\n",
    "!echo \"</s> 2\" >> data/demo.vocab.tgt\n",
    "!echo \"<blank> 3\" >> data/demo.vocab.tgt"
   ]
  },
  {
   "cell_type": "code",
   "execution_count": null,
   "id": "dcf3bd48",
   "metadata": {},
   "outputs": [],
   "source": []
  }
 ],
 "metadata": {
  "kernelspec": {
   "display_name": "daycon",
   "language": "python",
   "name": "python3"
  },
  "language_info": {
   "codemirror_mode": {
    "name": "ipython",
    "version": 3
   },
   "file_extension": ".py",
   "mimetype": "text/x-python",
   "name": "python",
   "nbconvert_exporter": "python",
   "pygments_lexer": "ipython3",
   "version": "3.11.13"
  }
 },
 "nbformat": 4,
 "nbformat_minor": 5
}
