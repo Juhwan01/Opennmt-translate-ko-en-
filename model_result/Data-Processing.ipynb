{
 "cells": [
  {
   "cell_type": "code",
   "execution_count": 1,
   "id": "c9e19979",
   "metadata": {},
   "outputs": [],
   "source": [
    "from utils import (\n",
    "    merge_json_files,\n",
    "    clean_data,\n",
    "    convert_to_opennmt_format,\n",
    "    \n",
    ")"
   ]
  },
  {
   "cell_type": "code",
   "execution_count": 2,
   "id": "c0059918",
   "metadata": {},
   "outputs": [
    {
     "name": "stdout",
     "output_type": "stream",
     "text": [
      "Processing: 구어체_대화체_16878.json\n",
      "  → 16878개 문장 쌍 추가됨\n",
      "Processing: 뉴스문어체_281932.json\n",
      "  → 281932개 문장 쌍 추가됨\n",
      "Processing: 문화문어체_25628.json\n",
      "  → 25628개 문장 쌍 추가됨\n",
      "Processing: 전문분야 문어체_306542.json\n",
      "  → 306542개 문장 쌍 추가됨\n",
      "Processing: 조례문어체_36339.json\n",
      "  → 36339개 문장 쌍 추가됨\n",
      "Processing: 지자체웹사이트 문어체_28705.json\n",
      "  → 28705개 문장 쌍 추가됨\n",
      "총 696024개 문장 쌍이 합쳐졌습니다!\n",
      "Processing: 구어체_대화체_2109.json\n",
      "  → 2109개 문장 쌍 추가됨\n",
      "Processing: 뉴스문어체_35241.json\n",
      "  → 35241개 문장 쌍 추가됨\n",
      "Processing: 문화문어체_3203.json\n",
      "  → 3203개 문장 쌍 추가됨\n",
      "Processing: 전문분야 문어체_38317.json\n",
      "  → 38317개 문장 쌍 추가됨\n",
      "Processing: 조례문어체_4542.json\n",
      "  → 4542개 문장 쌍 추가됨\n",
      "Processing: 지자체웹사이트 문어체_3587.json\n",
      "  → 3587개 문장 쌍 추가됨\n",
      "총 86999개 문장 쌍이 합쳐졌습니다!\n"
     ]
    },
    {
     "data": {
      "text/plain": [
       "86999"
      ]
     },
     "execution_count": 2,
     "metadata": {},
     "output_type": "execute_result"
    }
   ],
   "source": [
    "# Training 데이터 합치기\n",
    "merge_json_files('Training/TL_01 AIHUB 데이터', 'merged_train.json')\n",
    "\n",
    "# Validation 데이터 합치기  \n",
    "merge_json_files('Validation/VL_01 AIHUB 데이터', 'merged_valid.json')"
   ]
  },
  {
   "cell_type": "code",
   "execution_count": 2,
   "id": "2decc641",
   "metadata": {},
   "outputs": [
    {
     "name": "stdout",
     "output_type": "stream",
     "text": [
      "정제 전: 696024개 → 정제 후: 631381개 (드랍 64643개)\n",
      "드랍 사유별 통계:\n",
      "  긴 문장: 48403개\n",
      "  태그 문제: 16239개\n",
      "  한국어/영어 없는 문장 (타겟): 1개\n",
      "정제 전: 86999개 → 정제 후: 78993개 (드랍 8006개)\n",
      "드랍 사유별 통계:\n",
      "  긴 문장: 6015개\n",
      "  태그 문제: 1991개\n"
     ]
    }
   ],
   "source": [
    "# Training 데이터 정제\n",
    "clean_data('merged_train.json', 'cleaned_train.json')\n",
    "\n",
    "# Validation 데이터 정제\n",
    "clean_data('merged_valid.json', 'cleaned_valid.json')"
   ]
  },
  {
   "cell_type": "code",
   "execution_count": 3,
   "id": "1b97819d",
   "metadata": {},
   "outputs": [
    {
     "name": "stdout",
     "output_type": "stream",
     "text": [
      "631381개 문장 쌍 변환 완료!\n",
      "78993개 문장 쌍 변환 완료!\n"
     ]
    }
   ],
   "source": [
    "# Training 데이터 변환\n",
    "convert_to_opennmt_format('cleaned_train.json', 'train.ko', 'train.en')\n",
    "\n",
    "# Validation 데이터 변환\n",
    "convert_to_opennmt_format('cleaned_valid.json', 'valid.ko', 'valid.en')"
   ]
  },
  {
   "cell_type": "code",
   "execution_count": null,
   "id": "df881c53",
   "metadata": {},
   "outputs": [],
   "source": []
  }
 ],
 "metadata": {
  "kernelspec": {
   "display_name": "daycon",
   "language": "python",
   "name": "python3"
  },
  "language_info": {
   "codemirror_mode": {
    "name": "ipython",
    "version": 3
   },
   "file_extension": ".py",
   "mimetype": "text/x-python",
   "name": "python",
   "nbconvert_exporter": "python",
   "pygments_lexer": "ipython3",
   "version": "3.11.13"
  }
 },
 "nbformat": 4,
 "nbformat_minor": 5
}
