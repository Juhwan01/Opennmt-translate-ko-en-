{
 "cells": [
  {
   "cell_type": "code",
   "execution_count": 3,
   "id": "75a4fd44",
   "metadata": {},
   "outputs": [
    {
     "name": "stdout",
     "output_type": "stream",
     "text": [
      "Time w/o python interpreter load/terminate:  281.41427206993103\n"
     ]
    },
    {
     "name": "stderr",
     "output_type": "stream",
     "text": [
      "c:\\Anaconda3\\envs\\daycon\\Lib\\site-packages\\onmt\\modules\\sparse_activations.py:46: FutureWarning: `torch.cuda.amp.custom_fwd(args...)` is deprecated. Please use `torch.amp.custom_fwd(args..., device_type='cuda')` instead.\n",
      "  @custom_fwd\n",
      "c:\\Anaconda3\\envs\\daycon\\Lib\\site-packages\\onmt\\modules\\sparse_activations.py:66: FutureWarning: `torch.cuda.amp.custom_bwd(args...)` is deprecated. Please use `torch.amp.custom_bwd(args..., device_type='cuda')` instead.\n",
      "  @custom_bwd\n",
      "c:\\Anaconda3\\envs\\daycon\\Lib\\site-packages\\onmt\\modules\\sru.py:395: FutureWarning: `torch.cuda.amp.custom_fwd(args...)` is deprecated. Please use `torch.amp.custom_fwd(args..., device_type='cuda')` instead.\n",
      "  @custom_fwd\n",
      "c:\\Anaconda3\\envs\\daycon\\Lib\\site-packages\\onmt\\modules\\sru.py:444: FutureWarning: `torch.cuda.amp.custom_bwd(args...)` is deprecated. Please use `torch.amp.custom_bwd(args..., device_type='cuda')` instead.\n",
      "  @custom_bwd\n",
      "[2025-07-16 03:37:33,804 INFO] Loading checkpoint from models/model_step_19000.pt\n",
      "[2025-07-16 03:37:37,445 INFO] Loading data into the model\n",
      "[2025-07-16 03:42:15,168 INFO] PRED SCORE: -0.0628, PRED PPL: 1.06 NB SENTENCES: 49055\n"
     ]
    }
   ],
   "source": [
    "# 기본 번역\n",
    "!python -m onmt.bin.translate \\\n",
    "    -model models/model_step_19000.pt \\\n",
    "    -src test.tok.ko \\\n",
    "    -output output.tok.en \\\n",
    "    -beam_size 5 \\\n",
    "    -gpu 0"
   ]
  },
  {
   "cell_type": "code",
   "execution_count": null,
   "id": "4f1c2212",
   "metadata": {},
   "outputs": [],
   "source": []
  }
 ],
 "metadata": {
  "kernelspec": {
   "display_name": "daycon",
   "language": "python",
   "name": "python3"
  },
  "language_info": {
   "codemirror_mode": {
    "name": "ipython",
    "version": 3
   },
   "file_extension": ".py",
   "mimetype": "text/x-python",
   "name": "python",
   "nbconvert_exporter": "python",
   "pygments_lexer": "ipython3",
   "version": "3.11.13"
  }
 },
 "nbformat": 4,
 "nbformat_minor": 5
}
